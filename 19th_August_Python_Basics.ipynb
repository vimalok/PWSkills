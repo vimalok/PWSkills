{
 "cells": [
  {
   "cell_type": "markdown",
   "id": "dca7bc4e",
   "metadata": {},
   "source": [
    "##TOPIC: Python Basics Variable"
   ]
  },
  {
   "cell_type": "markdown",
   "id": "9e96ea7c",
   "metadata": {},
   "source": [
    "## \n",
    "Declare two variables, `x` and `y`, and assign them integer values.\n",
    "Swap the values of these variables without using any temporary\n",
    "variable."
   ]
  },
  {
   "cell_type": "code",
   "execution_count": 1,
   "id": "111e2778",
   "metadata": {},
   "outputs": [
    {
     "name": "stdout",
     "output_type": "stream",
     "text": [
      "6\n",
      "5\n"
     ]
    }
   ],
   "source": [
    "# Declare two variable x & y and assign them requisite values\n",
    "x=5\n",
    "y=6\n",
    "\n",
    "# Code to interchange the variable values\n",
    "x,y=y,x\n",
    "\n",
    "# Print the result\n",
    "print(x)\n",
    "print(y)"
   ]
  },
  {
   "cell_type": "markdown",
   "id": "40d3cce6",
   "metadata": {},
   "source": [
    "##Create a program that calculates the area of a rectangle. Take the\n",
    "length and width as inputs from the user and store them in variables.\n",
    "Calculate and display the area."
   ]
  },
  {
   "cell_type": "code",
   "execution_count": 11,
   "id": "1bba38eb",
   "metadata": {},
   "outputs": [
    {
     "name": "stdout",
     "output_type": "stream",
     "text": [
      "Enter the length of rectangle :5\n",
      "Enter the width of rectangle :5\n",
      "Area of rectangle : 25\n"
     ]
    }
   ],
   "source": [
    "# Input length and width of rectangle\n",
    "length = int(input(\"Enter the length of rectangle :\"))\n",
    "width = int(input(\"Enter the width of rectangle :\"))\n",
    "\n",
    "# Calculate the area of rectangle\n",
    "Area = length * width\n",
    "\n",
    "# Print the result\n",
    "print(\"Area of rectangle :\", Area)"
   ]
  },
  {
   "cell_type": "markdown",
   "id": "9e7e3939",
   "metadata": {},
   "source": [
    "##\n",
    "Write a Python program that converts temperature from Celsius to\n",
    "Fahrenheit. Take the temperature in Celsius as input, store it in a\n",
    "variable, convert it to Fahrenheit, and display the result."
   ]
  },
  {
   "cell_type": "code",
   "execution_count": 12,
   "id": "3c17e035",
   "metadata": {},
   "outputs": [
    {
     "name": "stdout",
     "output_type": "stream",
     "text": [
      "Enter temperature in Celsius: 35\n",
      "35.0 Celsius is equal to 95.00 Fahrenheit\n"
     ]
    }
   ],
   "source": [
    "# Input temperature in Celsius\n",
    "celsius = float(input(\"Enter temperature in Celsius: \"))\n",
    "\n",
    "# Convert Celsius to Fahrenheit\n",
    "fahrenheit = (celsius * 9/5) + 32\n",
    "\n",
    "# Print the result\n",
    "print(f\"{celsius} Celsius is equal to {fahrenheit:.2f} Fahrenheit\")"
   ]
  },
  {
   "cell_type": "markdown",
   "id": "04c0806b",
   "metadata": {},
   "source": [
    "##TOPIC: String Based Questions"
   ]
  },
  {
   "cell_type": "markdown",
   "id": "c9c96f84",
   "metadata": {},
   "source": [
    "##\n",
    "Write a Python program that takes a string as input and prints the\n",
    "length of the string."
   ]
  },
  {
   "cell_type": "code",
   "execution_count": 1,
   "id": "457163b7",
   "metadata": {},
   "outputs": [
    {
     "name": "stdout",
     "output_type": "stream",
     "text": [
      "Enter a string: vimal\n",
      "Lenght of the string is : 5\n"
     ]
    }
   ],
   "source": [
    "# Input a string to read the lenght\n",
    "length = str(input(\"Enter a string: \"))\n",
    "\n",
    "# Calculate the length of the string\n",
    "lenght1 = len(length)\n",
    "\n",
    "# Print the result\n",
    "print(\"Lenght of the string is :\", lenght1)"
   ]
  },
  {
   "cell_type": "markdown",
   "id": "ae32967f",
   "metadata": {},
   "source": [
    "##Create a program that takes a sentence from the user and counts the number\n",
    "of vowels (a, e, i, o, u) in the string."
   ]
  },
  {
   "cell_type": "code",
   "execution_count": 3,
   "id": "e8b9b4f0",
   "metadata": {},
   "outputs": [
    {
     "name": "stdout",
     "output_type": "stream",
     "text": [
      "Enter a sentence: myname is vimal\n",
      "Number of vowels in the sentence: 5\n"
     ]
    }
   ],
   "source": [
    "def count_vowels(user_input):\n",
    "    vowels = \"aeiouAEIOU\"  # Include uppercase vowels as well\n",
    "    vowel_count = 0\n",
    "\n",
    "    for char in user_input:\n",
    "        if char in vowels:\n",
    "            vowel_count += 1\n",
    "\n",
    "    return vowel_count\n",
    "\n",
    "user_input = input(\"Enter a sentence: \")\n",
    "vowel_count = count_vowels(user_input)\n",
    "print(f\"Number of vowels in the sentence: {vowel_count}\")"
   ]
  },
  {
   "cell_type": "markdown",
   "id": "4844db08",
   "metadata": {},
   "source": [
    "##Given a string, reverse the order of characters using string slicing and print\n",
    "the reversed string."
   ]
  },
  {
   "cell_type": "code",
   "execution_count": 6,
   "id": "e620e1d3",
   "metadata": {},
   "outputs": [
    {
     "name": "stdout",
     "output_type": "stream",
     "text": [
      "Enter a string: vimal\n",
      "Reversed string: lamiv\n"
     ]
    }
   ],
   "source": [
    "def reverse_string(string_input):\n",
    "    reversed_string = string_input[::-1]\n",
    "    return reversed_string\n",
    "\n",
    "string_input = input(\"Enter a string: \")\n",
    "reversed_result = reverse_string(string_input)\n",
    "print(\"Reversed string:\", reversed_result)"
   ]
  },
  {
   "cell_type": "markdown",
   "id": "3fb436db",
   "metadata": {},
   "source": [
    "##Write a program that takes a string as input and checks if it is a palindrome\n",
    "(reads the same forwards and backwards)."
   ]
  },
  {
   "cell_type": "code",
   "execution_count": 11,
   "id": "a623323b",
   "metadata": {},
   "outputs": [
    {
     "name": "stdout",
     "output_type": "stream",
     "text": [
      "Enter a string: malayalam\n",
      "The input string is a palindrome.\n"
     ]
    }
   ],
   "source": [
    "def is_palindrome(input_string):\n",
    "    # Convert the input string to lowercase and remove spaces\n",
    "    cleaned_string = input_string.lower().replace(\" \", \"\")\n",
    "\n",
    "    # Compare the cleaned string with its reverse and return a result\n",
    "    if cleaned_string == cleaned_string[::-1]:\n",
    "        return print(\"The input string is a palindrome.\")\n",
    "    else:\n",
    "        return print(\"The input string is not a palindrome.\")\n",
    "\n",
    "user_input = input(\"Enter a string: \")\n",
    "is_palindrome(user_input)\n",
    "    "
   ]
  },
  {
   "cell_type": "markdown",
   "id": "9dcda418",
   "metadata": {},
   "source": [
    "##Create a program that takes a string as input and removes all the spaces from\n",
    "it. Print the modified string without spaces."
   ]
  },
  {
   "cell_type": "code",
   "execution_count": 12,
   "id": "66641d7f",
   "metadata": {},
   "outputs": [
    {
     "name": "stdout",
     "output_type": "stream",
     "text": [
      "Enter a string: Python is very important programming language\n",
      "Modified string: Pythonisveryimportantprogramminglanguage\n"
     ]
    }
   ],
   "source": [
    "def remove_spaces(input_string):\n",
    "    modified_string = input_string.replace(\" \", \"\")\n",
    "    return modified_string\n",
    "\n",
    "user_input = input(\"Enter a string: \")\n",
    "modified_result = remove_spaces(user_input)\n",
    "print(\"Modified string:\", modified_result)"
   ]
  },
  {
   "cell_type": "code",
   "execution_count": null,
   "id": "56629496",
   "metadata": {},
   "outputs": [],
   "source": []
  }
 ],
 "metadata": {
  "kernelspec": {
   "display_name": "Python 3 (ipykernel)",
   "language": "python",
   "name": "python3"
  },
  "language_info": {
   "codemirror_mode": {
    "name": "ipython",
    "version": 3
   },
   "file_extension": ".py",
   "mimetype": "text/x-python",
   "name": "python",
   "nbconvert_exporter": "python",
   "pygments_lexer": "ipython3",
   "version": "3.11.4"
  }
 },
 "nbformat": 4,
 "nbformat_minor": 5
}
